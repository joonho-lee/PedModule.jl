{
 "cells": [
  {
   "cell_type": "code",
   "execution_count": 1,
   "metadata": {
    "collapsed": false
   },
   "outputs": [],
   "source": [
    "using DataFrames"
   ]
  },
  {
   "cell_type": "code",
   "execution_count": 2,
   "metadata": {
    "collapsed": false
   },
   "outputs": [],
   "source": [
    "type NPedNode\n",
    "    ind::Int64\n",
    "    sire::Int64\n",
    "    dam::Int64\n",
    "    f::Float64 \n",
    "end"
   ]
  },
  {
   "cell_type": "code",
   "execution_count": 3,
   "metadata": {
    "collapsed": false
   },
   "outputs": [],
   "source": [
    "type NPedigree\n",
    "    currentID::Int64\n",
    "    idMap::Dict\n",
    "    nped::Array{NPedNode,1}\n",
    "    aij::SparseMatrixCSC{Float64,Int64}\n",
    "end"
   ]
  },
  {
   "cell_type": "code",
   "execution_count": 4,
   "metadata": {
    "collapsed": false
   },
   "outputs": [],
   "source": [
    "type PedNode\n",
    "    seqID::Int64\n",
    "    sire::UTF8String\n",
    "    dam::UTF8String\n",
    "end"
   ]
  },
  {
   "cell_type": "code",
   "execution_count": 5,
   "metadata": {
    "collapsed": false
   },
   "outputs": [
    {
     "data": {
      "text/plain": [
       "code! (generic function with 1 method)"
      ]
     },
     "execution_count": 5,
     "metadata": {},
     "output_type": "execute_result"
    }
   ],
   "source": [
    "function code!(ped::NPedigree,id::UTF8String)\n",
    "    if ped.idMap[id].seqID!=0\n",
    "        return\n",
    "    end\n",
    "    sireID = ped.idMap[id].sire\n",
    "    damID  = ped.idMap[id].dam\n",
    "    if sireID!=\"0\" && ped.idMap[sireID].seqID==0\n",
    "        code!(ped,sireID)\n",
    "    end \n",
    "    if damID!=\"0\" && ped.idMap[damID].seqID==0\n",
    "        code!(ped,damID)\n",
    "    end\n",
    "    ped.idMap[id].seqID = ped.currentID\n",
    "    ped.currentID += 1\n",
    "end"
   ]
  },
  {
   "cell_type": "code",
   "execution_count": 6,
   "metadata": {
    "collapsed": false
   },
   "outputs": [
    {
     "data": {
      "text/plain": [
       "fillMap! (generic function with 1 method)"
      ]
     },
     "execution_count": 6,
     "metadata": {},
     "output_type": "execute_result"
    }
   ],
   "source": [
    "function fillMap!(ped::NPedigree,df)\n",
    "    n = size(df,1)\n",
    "    for i in df[:,2]\n",
    "        if i!=\"0\"\n",
    "            ped.idMap[i]=PedNode(0,\"0\",\"0\")\n",
    "        end\n",
    "    end\n",
    "    for i in df[:,3]\n",
    "        if i!=\"0\"\n",
    "            ped.idMap[i]=PedNode(0,\"0\",\"0\")\n",
    "        end\n",
    "    end \n",
    "    j=1\n",
    "    for i in df[:,1]\n",
    "        ped.idMap[i]=PedNode(0,df[j,2],df[j,3])\n",
    "        j+=1\n",
    "    end \n",
    "end"
   ]
  },
  {
   "cell_type": "code",
   "execution_count": 29,
   "metadata": {
    "collapsed": false
   },
   "outputs": [
    {
     "data": {
      "text/plain": [
       "fillNPed! (generic function with 1 method)"
      ]
     },
     "execution_count": 29,
     "metadata": {},
     "output_type": "execute_result"
    }
   ],
   "source": [
    "function fillNPed!(ped::NPedigree,df)\n",
    "    resize!(ped.nped,ped.currentID-1)\n",
    "    for val in values(ped.idMap)\n",
    "        npedi = NPedNode(0,0,0,0.0)\n",
    "        ped.nped[val.seqID] = npedi\n",
    "        npedi.ind = val.seqID\n",
    "        if val.sire!=\"0\"\n",
    "            npedi.sire = ped.idMap[val.sire].seqID\n",
    "        else\n",
    "            npedi.sire = 0\n",
    "        end\n",
    "        if val.dam!=\"0\"\n",
    "            npedi.dam  = ped.idMap[val.dam].seqID\n",
    "        else\n",
    "           npedi.dam  = 0 \n",
    "        end\n",
    "        npedi.f    = -1.0\n",
    "    end\n",
    "end       "
   ]
  },
  {
   "cell_type": "code",
   "execution_count": 152,
   "metadata": {
    "collapsed": false
   },
   "outputs": [
    {
     "data": {
      "text/plain": [
       "calcAddRel1234! (generic function with 1 method)"
      ]
     },
     "execution_count": 152,
     "metadata": {},
     "output_type": "execute_result"
    }
   ],
   "source": [
    "function calcAddRel1234!(ped::NPedigree,id1::Int64,id2::Int64)\n",
    "    #@printf \"calcRel between %s and %s \\n\" id1 id2\n",
    "    if id1==0 || id2==0           # zero\n",
    "        return 0.0\n",
    "    end\n",
    "    old,yng = id1<id2 ? (id1,id2):(id2,id1)\n",
    "    if ped.aij[old,yng]>0.0      # already done\n",
    "        #println(\"returning saved value\")\n",
    "        return ped.aij[yng,old]\n",
    "    end\n",
    "    sireOfYng = ped.nped[yng].sire\n",
    "    damOfYng  = ped.nped[yng].dam \n",
    "    if old==yng                       # aii\n",
    "        #aii = 1.0 + calcInbreeding!(ped,old)\n",
    "        aii = 1 + 0.5*calcAddRel1234!(ped,damOfYng,sireOfYng) \n",
    "        ped.aij[old,old] = aii\n",
    "        return (aii)   \n",
    "    end\n",
    "    aOldDamYoung  = (old==0 || damOfYng ==0)? 0.0:calcAddRel1234!(ped,old,damOfYng)\n",
    "    aOldSireYoung = (old==0 || sireOfYng==0)? 0.0:calcAddRel1234!(ped,old,sireOfYng)\n",
    "    aij = 0.5*(aOldSireYoung + aOldDamYoung)\n",
    "    #aij = 0.5*(calcAddRel!(ped,old,sireOfYng) + calcAddRel!(ped,old,damOfYng))\n",
    "    ped.aij[yng,old] = aij\n",
    "    ped.aij[old,yng] = 1.0\n",
    "    return(aij)\n",
    "end "
   ]
  },
  {
   "cell_type": "code",
   "execution_count": 153,
   "metadata": {
    "collapsed": false
   },
   "outputs": [
    {
     "data": {
      "text/plain": [
       "calcInbreeding! (generic function with 1 method)"
      ]
     },
     "execution_count": 153,
     "metadata": {},
     "output_type": "execute_result"
    }
   ],
   "source": [
    "function calcInbreeding!(ped::NPedigree,id::Int64)\n",
    "    #@printf \"calcInbreeding for: %s \\n\" id\n",
    "    if ped.nped[id].f > -1.0\n",
    "        return ped.nped[id].f\n",
    "    end\n",
    "    sireID = ped.nped[id].sire\n",
    "    damID  = ped.nped[id].dam\n",
    "    if (sireID==0 || damID==0 )\n",
    "        ped.nped[id].f = 0.0\n",
    "    else\n",
    "        ped.nped[id].f = 0.5*calcAddRel1234!(ped,sireID,damID)\n",
    "    end\n",
    "end"
   ]
  },
  {
   "cell_type": "code",
   "execution_count": 162,
   "metadata": {
    "collapsed": false
   },
   "outputs": [
    {
     "data": {
      "text/html": [
       "<table class=\"data-frame\"><tr><th></th><th>x1</th><th>x2</th><th>x3</th></tr><tr><th>1</th><td>ID</td><td>SireID</td><td>DamID</td></tr><tr><th>2</th><td>6225672</td><td>5680</td><td>4854627</td></tr><tr><th>3</th><td>6759752</td><td>5222</td><td>2664690</td></tr><tr><th>4</th><td>6789836</td><td>4543</td><td>2431169</td></tr><tr><th>5</th><td>7291771</td><td>4944040</td><td>2490792</td></tr><tr><th>6</th><td>7500750</td><td>6000</td><td>7324141</td></tr><tr><th>7</th><td>7711004</td><td>9085</td><td>4418801</td></tr><tr><th>8</th><td>7712991</td><td>9061</td><td>4916673</td></tr><tr><th>9</th><td>7749138</td><td>9061</td><td>5922933</td></tr><tr><th>10</th><td>7913958</td><td>9040</td><td>3192245</td></tr><tr><th>11</th><td>7945060</td><td>8981</td><td>2563472</td></tr><tr><th>12</th><td>8121272</td><td>9024</td><td>5902744</td></tr><tr><th>13</th><td>8156648</td><td>4403</td><td>3815508</td></tr><tr><th>14</th><td>8353915</td><td>358814</td><td>3323591</td></tr><tr><th>15</th><td>8741431</td><td>4543</td><td>7982643</td></tr><tr><th>16</th><td>8796053</td><td>8833494</td><td>7017192</td></tr><tr><th>17</th><td>8796092</td><td>5848</td><td>2717172</td></tr><tr><th>18</th><td>8944488</td><td>2985716</td><td>7995245</td></tr><tr><th>19</th><td>8987009</td><td>4570</td><td>6724086</td></tr><tr><th>20</th><td>8998748</td><td>2985733</td><td>6971274</td></tr><tr><th>21</th><td>9033552</td><td>9065</td><td>2980443</td></tr><tr><th>22</th><td>9035338</td><td>359064</td><td>5871662</td></tr><tr><th>23</th><td>9101769</td><td>359064</td><td>4800105</td></tr><tr><th>24</th><td>9156856</td><td>4570</td><td>4917638</td></tr><tr><th>25</th><td>9167691</td><td>2985698</td><td>4295172</td></tr><tr><th>26</th><td>9256431</td><td>5263265</td><td>5466938</td></tr><tr><th>27</th><td>9279803</td><td>7146511</td><td>4485836</td></tr><tr><th>28</th><td>9286995</td><td>6498399</td><td>5480172</td></tr><tr><th>29</th><td>9393307</td><td>9065</td><td>8417036</td></tr><tr><th>30</th><td>9423081</td><td>5014534</td><td>5833161</td></tr><tr><th>&vellip;</th><td>&vellip;</td><td>&vellip;</td><td>&vellip;</td></tr></table>"
      ],
      "text/plain": [
       "882800x3 DataFrames.DataFrame\n",
       "| Row    | x1         | x2        | x3         |\n",
       "|--------|------------|-----------|------------|\n",
       "| 1      | \"ID\"       | \"SireID\"  | \"DamID\"    |\n",
       "| 2      | \"6225672\"  | \"5680\"    | \"4854627\"  |\n",
       "| 3      | \"6759752\"  | \"5222\"    | \"2664690\"  |\n",
       "| 4      | \"6789836\"  | \"4543\"    | \"2431169\"  |\n",
       "| 5      | \"7291771\"  | \"4944040\" | \"2490792\"  |\n",
       "| 6      | \"7500750\"  | \"6000\"    | \"7324141\"  |\n",
       "| 7      | \"7711004\"  | \"9085\"    | \"4418801\"  |\n",
       "| 8      | \"7712991\"  | \"9061\"    | \"4916673\"  |\n",
       "| 9      | \"7749138\"  | \"9061\"    | \"5922933\"  |\n",
       "| 10     | \"7913958\"  | \"9040\"    | \"3192245\"  |\n",
       "| 11     | \"7945060\"  | \"8981\"    | \"2563472\"  |\n",
       "⋮\n",
       "| 882789 | \"13191958\" | \"8245873\" | \"6839450\"  |\n",
       "| 882790 | \"13245602\" | \"6990172\" | \"8297450\"  |\n",
       "| 882791 | \"13252702\" | \"7157174\" | \"12238900\" |\n",
       "| 882792 | \"13530945\" | \"8657875\" | \"10804405\" |\n",
       "| 882793 | \"13664752\" | \"6990172\" | \"7726064\"  |\n",
       "| 882794 | \"13681660\" | \"8359248\" | \"10015540\" |\n",
       "| 882795 | \"13868327\" | \"6990172\" | \"8690935\"  |\n",
       "| 882796 | \"13912284\" | \"8814639\" | \"9344144\"  |\n",
       "| 882797 | \"13912293\" | \"6990172\" | \"9328669\"  |\n",
       "| 882798 | \"14152379\" | \"9860735\" | \"5671906\"  |\n",
       "| 882799 | \"14736199\" | \"9616359\" | \"12358515\" |\n",
       "| 882800 | \"16204791\" | \"0\"       | \"0\"        |"
      ]
     },
     "execution_count": 162,
     "metadata": {},
     "output_type": "execute_result"
    }
   ],
   "source": [
    "pedFile = \"LICPedigree.txt\"\n",
    "df = readtable(pedFile, separator = ' ',header=false)"
   ]
  },
  {
   "cell_type": "code",
   "execution_count": 163,
   "metadata": {
    "collapsed": false,
    "scrolled": true
   },
   "outputs": [
    {
     "data": {
      "text/plain": [
       "1148677x1148677 sparse matrix with 0 Float64 entries:"
      ]
     },
     "execution_count": 163,
     "metadata": {},
     "output_type": "execute_result"
    }
   ],
   "source": [
    "idMap = Dict()\n",
    "aij = spzeros(1,1)\n",
    "nped = NPedNode[]\n",
    "ped = NPedigree(1,idMap,nped,aij)\n",
    "fillMap!(ped,df)\n",
    "for id in keys(ped.idMap)\n",
    "    code!(ped,id)\n",
    "end\n",
    "n = ped.currentID - 1\n",
    "ped.aij = spzeros(n,n)"
   ]
  },
  {
   "cell_type": "code",
   "execution_count": 165,
   "metadata": {
    "collapsed": false
   },
   "outputs": [],
   "source": [
    "fillNPed!(ped,df)"
   ]
  },
  {
   "cell_type": "code",
   "execution_count": 166,
   "metadata": {
    "collapsed": false
   },
   "outputs": [],
   "source": [
    "pedFile = open(\"LICPedigree.seq\", \"w\")\n",
    "@printf(pedFile,\"ind sire dam\\n\")\n",
    "n = ped.currentID - 1\n",
    "for i=1:n\n",
    "    @printf(pedFile,\"%4d %4d %4d \\n\",ped.nped[i].ind, ped.nped[i].sire, ped.nped[i].dam)\n",
    "end \n",
    "close(pedFile)"
   ]
  },
  {
   "cell_type": "code",
   "execution_count": 132,
   "metadata": {
    "collapsed": false
   },
   "outputs": [],
   "source": [
    "Profile.clear()\n",
    "Profile.init(delay=0.001)"
   ]
  },
  {
   "cell_type": "code",
   "execution_count": 159,
   "metadata": {
    "collapsed": false
   },
   "outputs": [
    {
     "name": "stdout",
     "output_type": "stream",
     "text": [
      "  2.586495 seconds (1.51 k allocations: 87.891 KB)\n"
     ]
    }
   ],
   "source": [
    "@time for ind in 1:1000\n",
    "    calcInbreeding!(ped,ind)\n",
    "end"
   ]
  },
  {
   "cell_type": "code",
   "execution_count": 160,
   "metadata": {
    "collapsed": false
   },
   "outputs": [
    {
     "data": {
      "text/plain": [
       "SparseMatrixCSC{Float64,Int64}"
      ]
     },
     "execution_count": 160,
     "metadata": {},
     "output_type": "execute_result"
    }
   ],
   "source": [
    "typeof(ped.aij)"
   ]
  },
  {
   "cell_type": "code",
   "execution_count": null,
   "metadata": {
    "collapsed": false,
    "scrolled": false
   },
   "outputs": [],
   "source": [
    "Profile.print()"
   ]
  },
  {
   "cell_type": "code",
   "execution_count": 126,
   "metadata": {
    "collapsed": false
   },
   "outputs": [
    {
     "data": {
      "text/plain": [
       "mkPed (generic function with 1 method)"
      ]
     },
     "execution_count": 126,
     "metadata": {},
     "output_type": "execute_result"
    }
   ],
   "source": [
    "function  mkPed(pedFile::AbstractString) \n",
    "    df = readtable(pedFile,eltypes=[UTF8String,UTF8String,UTF8String],separator = ' ',header=false)  \n",
    "    idMap = Dict()\n",
    "    aij = spzeros(1,1)\n",
    "    nped = NPedNode[]\n",
    "    ped = NPedigree(1,idMap,nped,aij)\n",
    "    fillMap!(ped,df)\n",
    "    for id in keys(ped.idMap)\n",
    "        code!(ped,id)\n",
    "    end\n",
    "    n = ped.currentID - 1\n",
    "    ped.aij = spzeros(n,n)\n",
    "    fillNPed!(ped,df)\n",
    "    for i in 1:n\n",
    "        calcInbreeding!(ped,i)\n",
    "        if i%1000 == 0\n",
    "            println(i)\n",
    "        end\n",
    "    end \n",
    "    return (ped)\n",
    "end"
   ]
  },
  {
   "cell_type": "code",
   "execution_count": 60,
   "metadata": {
    "collapsed": true
   },
   "outputs": [],
   "source": [
    "Profile.clear()"
   ]
  },
  {
   "cell_type": "code",
   "execution_count": 61,
   "metadata": {
    "collapsed": false
   },
   "outputs": [],
   "source": [
    "Profile.init(delay=0.01)"
   ]
  },
  {
   "cell_type": "code",
   "execution_count": 127,
   "metadata": {
    "collapsed": false,
    "scrolled": true
   },
   "outputs": [],
   "source": [
    "ped = mkPed(\"ped.txt\");"
   ]
  },
  {
   "cell_type": "code",
   "execution_count": 128,
   "metadata": {
    "collapsed": false
   },
   "outputs": [
    {
     "data": {
      "text/plain": [
       "9-element Array{NPedNode,1}:\n",
       " NPedNode(1,0,0,0.0)  \n",
       " NPedNode(2,0,0,0.0)  \n",
       " NPedNode(3,1,2,0.0)  \n",
       " NPedNode(4,1,3,0.25) \n",
       " NPedNode(5,4,0,0.0)  \n",
       " NPedNode(6,0,0,0.0)  \n",
       " NPedNode(7,0,0,0.0)  \n",
       " NPedNode(8,6,7,0.0)  \n",
       " NPedNode(9,3,4,0.375)"
      ]
     },
     "execution_count": 128,
     "metadata": {},
     "output_type": "execute_result"
    }
   ],
   "source": [
    "ped.nped"
   ]
  }
 ],
 "metadata": {
  "kernelspec": {
   "display_name": "Julia 0.4.5",
   "language": "julia",
   "name": "julia-0.4"
  },
  "language_info": {
   "file_extension": ".jl",
   "mimetype": "application/julia",
   "name": "julia",
   "version": "0.4.5"
  }
 },
 "nbformat": 4,
 "nbformat_minor": 0
}

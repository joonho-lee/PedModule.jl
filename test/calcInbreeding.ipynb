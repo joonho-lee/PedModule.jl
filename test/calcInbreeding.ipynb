{
 "cells": [
  {
   "cell_type": "code",
   "execution_count": 52,
   "metadata": {
    "collapsed": false
   },
   "outputs": [
    {
     "data": {
      "text/plain": [
       "1148677"
      ]
     },
     "execution_count": 52,
     "metadata": {},
     "output_type": "execute_result"
    }
   ],
   "source": [
    "using DataFrames\n",
    "ped  = readtable(\"LICPedigree.seq\",separator=' ')\n",
    "n   = size(ped,1)"
   ]
  },
  {
   "cell_type": "code",
   "execution_count": 56,
   "metadata": {
    "collapsed": false,
    "scrolled": true
   },
   "outputs": [
    {
     "data": {
      "text/html": [
       "<table class=\"data-frame\"><tr><th></th><th>ind</th><th>sire</th><th>dam</th></tr><tr><th>1</th><td>1</td><td>0</td><td>0</td></tr><tr><th>2</th><td>2</td><td>0</td><td>0</td></tr><tr><th>3</th><td>3</td><td>0</td><td>0</td></tr><tr><th>4</th><td>4</td><td>2</td><td>3</td></tr><tr><th>5</th><td>5</td><td>0</td><td>0</td></tr><tr><th>6</th><td>6</td><td>4</td><td>5</td></tr></table>"
      ],
      "text/plain": [
       "6x3 DataFrames.DataFrame\n",
       "| Row | ind | sire | dam |\n",
       "|-----|-----|------|-----|\n",
       "| 1   | 1   | 0    | 0   |\n",
       "| 2   | 2   | 0    | 0   |\n",
       "| 3   | 3   | 0    | 0   |\n",
       "| 4   | 4   | 2    | 3   |\n",
       "| 5   | 5   | 0    | 0   |\n",
       "| 6   | 6   | 4    | 5   |"
      ]
     },
     "execution_count": 56,
     "metadata": {},
     "output_type": "execute_result"
    }
   ],
   "source": [
    "aij = Dict{Int64, Float64}()\n",
    "fArray = fill(-1.0,n)\n",
    "head(ped)"
   ]
  },
  {
   "cell_type": "code",
   "execution_count": 45,
   "metadata": {
    "collapsed": false
   },
   "outputs": [
    {
     "data": {
      "text/plain": [
       "calcAddRel! (generic function with 2 methods)"
      ]
     },
     "execution_count": 45,
     "metadata": {},
     "output_type": "execute_result"
    }
   ],
   "source": [
    "function calcAddRel!(aij::Dict{Int64, Float64},ped::DataFrame,id1::Int64,id2::Int64)\n",
    "    if id1==0 || id2==0           \n",
    "        return 0.0\n",
    "    end\n",
    "    old,yng = id1<id2 ? (id1,id2):(id2,id1)\n",
    "    n = yng - 1\n",
    "    \n",
    "    aijKey = n*(n+1)/2 + old\n",
    "    if haskey(aij,aijKey)     \n",
    "        return aij[aijKey]\n",
    "    end\n",
    "    \n",
    "    sireOfYng = ped[yng,:sire]\n",
    "    damOfYng  = ped[yng,:dam] \n",
    "    if old==yng                       \n",
    "        aii = 1 + 0.5*calcAddRel!(aij,ped,damOfYng,sireOfYng) \n",
    "        aij[aijKey] = aii\n",
    "        return (aii)   \n",
    "    end\n",
    "    aOldDamYoung  = (old==0 || damOfYng ==0)? 0.0:calcAddRel!(aij,ped,old,damOfYng)\n",
    "    aOldSireYoung = (old==0 || sireOfYng==0)? 0.0:calcAddRel!(aij,ped,old,sireOfYng)\n",
    "    aijVal = 0.5*(aOldSireYoung + aOldDamYoung)\n",
    "    aij[aijKey] = aijVal\n",
    "    return(aijVal)\n",
    "end "
   ]
  },
  {
   "cell_type": "code",
   "execution_count": 46,
   "metadata": {
    "collapsed": false
   },
   "outputs": [
    {
     "data": {
      "text/plain": [
       "calcInbreeding! (generic function with 2 methods)"
      ]
     },
     "execution_count": 46,
     "metadata": {},
     "output_type": "execute_result"
    }
   ],
   "source": [
    "function calcInbreeding!(fArray::Array{Float64,1},aij::Dict{Int64, Float64},ped::DataFrame,id::Int64)\n",
    "    if fArray[id] > -1.0\n",
    "        return fArray[id]\n",
    "    end\n",
    "    sireID = ped[id,:sire]\n",
    "    damID  = ped[id,:dam ]\n",
    "    if (sireID==0 || damID==0 )\n",
    "        fArray[id] = 0.0\n",
    "    else\n",
    "        fArray[id] = 0.5*calcAddRel!(aij,ped,sireID,damID)\n",
    "    end\n",
    "end"
   ]
  },
  {
   "cell_type": "code",
   "execution_count": 47,
   "metadata": {
    "collapsed": false
   },
   "outputs": [
    {
     "data": {
      "text/plain": [
       "testSpeed (generic function with 1 method)"
      ]
     },
     "execution_count": 47,
     "metadata": {},
     "output_type": "execute_result"
    }
   ],
   "source": [
    "function testSpeed(n,fArray,aij,ped)\n",
    "    for ind in 1:n\n",
    "        calcInbreeding!(fArray,aij,ped,ind)\n",
    "    end\n",
    "end"
   ]
  },
  {
   "cell_type": "code",
   "execution_count": 57,
   "metadata": {
    "collapsed": false
   },
   "outputs": [
    {
     "name": "stdout",
     "output_type": "stream",
     "text": [
      "  1.239041 seconds (11.26 M allocations: 304.989 MB, 8.45% gc time)\n"
     ]
    }
   ],
   "source": [
    "@time testSpeed(n,fArray,aij,ped)"
   ]
  },
  {
   "cell_type": "code",
   "execution_count": 58,
   "metadata": {
    "collapsed": false
   },
   "outputs": [
    {
     "data": {
      "text/plain": [
       "1148677x2 Array{Float64,2}:\n",
       " 0.0            1.0      \n",
       " 0.0            2.0      \n",
       " 0.0            3.0      \n",
       " 0.0            4.0      \n",
       " 0.0            5.0      \n",
       " 0.0            6.0      \n",
       " 0.0            7.0      \n",
       " 0.0            8.0      \n",
       " 0.0            9.0      \n",
       " 0.0           10.0      \n",
       " 0.0           11.0      \n",
       " 0.0           12.0      \n",
       " 0.0           13.0      \n",
       " ⋮                       \n",
       " 0.265625       1.08718e6\n",
       " 0.265625       1.14423e6\n",
       " 0.28125   835126.0      \n",
       " 0.28125        1.09405e6\n",
       " 0.28125        1.13339e6\n",
       " 0.3125    250961.0      \n",
       " 0.3125    281308.0      \n",
       " 0.3125    319881.0      \n",
       " 0.3125    790440.0      \n",
       " 0.3125    810528.0      \n",
       " 0.3125    921567.0      \n",
       " 0.3125    950010.0      "
      ]
     },
     "execution_count": 58,
     "metadata": {},
     "output_type": "execute_result"
    }
   ],
   "source": [
    "sortrows([fArray ped[:ind]])"
   ]
  }
 ],
 "metadata": {
  "kernelspec": {
   "display_name": "Julia 0.4.5",
   "language": "julia",
   "name": "julia-0.4"
  },
  "language_info": {
   "file_extension": ".jl",
   "mimetype": "application/julia",
   "name": "julia",
   "version": "0.4.5"
  }
 },
 "nbformat": 4,
 "nbformat_minor": 0
}

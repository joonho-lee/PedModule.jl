{
 "cells": [
  {
   "cell_type": "markdown",
   "metadata": {},
   "source": [
    "> usefule link: \n",
    "http://julia-programming-language.2336112.n4.nabble.com/Multiple-dispatch-and-AbstractString-td35781.html"
   ]
  },
  {
   "cell_type": "code",
   "execution_count": 1,
   "metadata": {
    "collapsed": false
   },
   "outputs": [
    {
     "name": "stdout",
     "output_type": "stream",
     "text": [
      "ind sire dam\n",
      "   1    0    0 \n",
      "   2    0    0 \n",
      "   3    0    0 \n",
      "   4    2    3 \n",
      "   5    0    0 \n",
      "   6    4    5 \n",
      "   7    0    0 \n",
      "   8    6    7 \n",
      "   9    0    0 \n"
     ]
    }
   ],
   "source": [
    ";head LICPedigree.seq"
   ]
  },
  {
   "cell_type": "code",
   "execution_count": 2,
   "metadata": {
    "collapsed": false
   },
   "outputs": [
    {
     "data": {
      "text/plain": [
       "PedModule"
      ]
     },
     "execution_count": 2,
     "metadata": {},
     "output_type": "execute_result"
    }
   ],
   "source": [
    "include(\"../src/PedModule2.jl\")"
   ]
  },
  {
   "cell_type": "code",
   "execution_count": 3,
   "metadata": {
    "collapsed": false
   },
   "outputs": [],
   "source": [
    "using PedModule"
   ]
  },
  {
   "cell_type": "code",
   "execution_count": 5,
   "metadata": {
    "collapsed": false
   },
   "outputs": [
    {
     "name": "stdout",
     "output_type": "stream",
     "text": [
      " 29.115344 seconds (103.61 M allocations: 2.890 GB, 21.50% gc time)\n"
     ]
    }
   ],
   "source": [
    "@time ped = PedModule.mkPed(\"LICPedigree.seq\",header=true);"
   ]
  },
  {
   "cell_type": "code",
   "execution_count": null,
   "metadata": {
    "collapsed": true
   },
   "outputs": [],
   "source": [
    "@time ped = PedModule.mkPed(\"LICPedigree.seq\",header=true);"
   ]
  },
  {
   "cell_type": "code",
   "execution_count": 5,
   "metadata": {
    "collapsed": false
   },
   "outputs": [
    {
     "data": {
      "text/plain": [
       "3x3 sparse matrix with 9 Float64 entries:\n",
       "\t[1, 1]  =  1.5\n",
       "\t[2, 1]  =  0.5\n",
       "\t[3, 1]  =  -1.0\n",
       "\t[1, 2]  =  0.5\n",
       "\t[2, 2]  =  1.5\n",
       "\t[3, 2]  =  -1.0\n",
       "\t[1, 3]  =  -1.0\n",
       "\t[2, 3]  =  -1.0\n",
       "\t[3, 3]  =  2.0"
      ]
     },
     "execution_count": 5,
     "metadata": {},
     "output_type": "execute_result"
    }
   ],
   "source": [
    "Ai = PedModule.AInverse(ped)"
   ]
  },
  {
   "cell_type": "code",
   "execution_count": 4,
   "metadata": {
    "collapsed": false
   },
   "outputs": [
    {
     "data": {
      "text/plain": [
       "3x3 sparse matrix with 9 Float64 entries:\n",
       "\t[1, 1]  =  1.5\n",
       "\t[2, 1]  =  0.5\n",
       "\t[3, 1]  =  -1.0\n",
       "\t[1, 2]  =  0.5\n",
       "\t[2, 2]  =  1.5\n",
       "\t[3, 2]  =  -1.0\n",
       "\t[1, 3]  =  -1.0\n",
       "\t[2, 3]  =  -1.0\n",
       "\t[3, 3]  =  2.0"
      ]
     },
     "execution_count": 4,
     "metadata": {},
     "output_type": "execute_result"
    }
   ],
   "source": [
    "Ai = PedModule.AInverse(ped)"
   ]
  },
  {
   "cell_type": "code",
   "execution_count": 7,
   "metadata": {
    "collapsed": false
   },
   "outputs": [
    {
     "name": "stdout",
     "output_type": "stream",
     "text": [
      "Array{ASCIIString,1}\n",
      "Array{UTF8String,1}\n"
     ]
    }
   ],
   "source": [
    "a = [\"asd\", \"bvc\", \"qwerty\"]\n",
    "b = [\"asdť\", \"bvc\", \"qwerty\"]\n",
    "println(typeof(a))\n",
    "println(typeof(b))"
   ]
  },
  {
   "cell_type": "code",
   "execution_count": 14,
   "metadata": {
    "collapsed": false
   },
   "outputs": [
    {
     "data": {
      "text/plain": [
       "g (generic function with 2 methods)"
      ]
     },
     "execution_count": 14,
     "metadata": {},
     "output_type": "execute_result"
    }
   ],
   "source": [
    "g(s::AbstractString) = println(\"there!\") #can not use ASCIIString"
   ]
  },
  {
   "cell_type": "code",
   "execution_count": 15,
   "metadata": {
    "collapsed": false
   },
   "outputs": [
    {
     "name": "stdout",
     "output_type": "stream",
     "text": [
      "there!\n"
     ]
    }
   ],
   "source": [
    "g(a[1])"
   ]
  },
  {
   "cell_type": "code",
   "execution_count": 16,
   "metadata": {
    "collapsed": false
   },
   "outputs": [
    {
     "name": "stdout",
     "output_type": "stream",
     "text": [
      "there!\n"
     ]
    }
   ],
   "source": [
    "g(b[1])"
   ]
  },
  {
   "cell_type": "code",
   "execution_count": 13,
   "metadata": {
    "collapsed": false
   },
   "outputs": [
    {
     "ename": "LoadError",
     "evalue": "LoadError: ArgumentError: Invalid eltype ASCIIString encountered.\nValid eltypes: UTF8String, Bool, Float64 or Int64\nwhile loading In[13], in expression starting on line 2",
     "output_type": "error",
     "traceback": [
      "LoadError: ArgumentError: Invalid eltype ASCIIString encountered.\nValid eltypes: UTF8String, Bool, Float64 or Int64\nwhile loading In[13], in expression starting on line 2",
      "",
      " in readtable at /Users/haocheng/.julia/v0.4/DataFrames/src/dataframe/io.jl:839",
      " in readtable at /Users/haocheng/.julia/v0.4/DataFrames/src/dataframe/io.jl:953"
     ]
    }
   ],
   "source": [
    "using DataFrames\n",
    "df = readtable(\"ped.txt\",eltypes=[ASCIIString,ASCIIString,ASCIIString],separator = ' ',header=false)"
   ]
  }
 ],
 "metadata": {
  "kernelspec": {
   "display_name": "Julia 0.4.5",
   "language": "julia",
   "name": "julia-0.4"
  },
  "language_info": {
   "file_extension": ".jl",
   "mimetype": "application/julia",
   "name": "julia",
   "version": "0.4.5"
  }
 },
 "nbformat": 4,
 "nbformat_minor": 0
}
